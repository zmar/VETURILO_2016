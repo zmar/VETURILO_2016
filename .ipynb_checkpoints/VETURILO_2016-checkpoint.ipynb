{
 "cells": [
  {
   "cell_type": "markdown",
   "metadata": {},
   "source": [
    "# Moje przygody z Veturilo 2016\n",
    "\n",
    "Dzisiaj (2016.12.01) skończył się sezon Veturilo więc czas na podsumowanie."
   ]
  },
  {
   "cell_type": "markdown",
   "metadata": {},
   "source": [
    "## 1. Przygotowanie danych\n",
    "\n",
    "Konto w systemie Veturilo zawiera listę wszystkich wypożyczeń użytkownika wraz z informacją o płatnościach. Dane są w topornej formie, ale da się je przekleić do arkusza EXCELa a potem do CSV i wtedy stają się strawne. Poniżej przykład danych (z mojego konta) pobranych z pliku CSV. Wyrzuciłem informacje o karach i doładowywaniu konta - nic ciekawego :P"
   ]
  },
  {
   "cell_type": "code",
   "execution_count": 1,
   "metadata": {
    "collapsed": false
   },
   "outputs": [
    {
     "data": {
      "text/html": [
       "<table>\n",
       "<thead><tr><th scope=col>data</th><th scope=col>opis</th></tr></thead>\n",
       "<tbody>\n",
       "\t<tr><td>07.03.2016 08:38                                                                                       </td><td>Rower 68244 do 08:51:44 (Arkadia - ul. Bonifraterska - Plac Krasińskich)                               </td></tr>\n",
       "\t<tr><td>08.03.2016 08:40                                                                                       </td><td>Rower 60439 do 08:53:32 (Arkadia - ul. Bonifraterska - Plac Krasińskich)                               </td></tr>\n",
       "\t<tr><td>23.03.2016 08:41                                                                                       </td><td>Rower 64866 do 08:54:52 (Arkadia - ul. Bonifraterska - Plac Krasińskich)                               </td></tr>\n",
       "\t<tr><td>24.03.2016 08:43                                                                                       </td><td>Rower 60903 do 08:56:10 (Arkadia - ul. Bonifraterska - Plac Krasińskich)                               </td></tr>\n",
       "\t<tr><td>25.03.2016 08:38                                                                                       </td><td>Rower 61043 do 08:51:15 (Arkadia - ul. Bonifraterska - Plac Krasińskich)                               </td></tr>\n",
       "\t<tr><td>29.03.2016 08:51                                                                                       </td><td>Rower 68183 do 08:58:22 (ul. Słomińskiego - Metro Dw. Gdański 1 - ul. Bonifraterska - Plac Krasińskich)</td></tr>\n",
       "</tbody>\n",
       "</table>\n"
      ],
      "text/latex": [
       "\\begin{tabular}{r|ll}\n",
       " data & opis\\\\\n",
       "\\hline\n",
       "\t 07.03.2016 08:38                                                                                        & Rower 68244 do 08:51:44 (Arkadia - ul. Bonifraterska - Plac Krasińskich)                               \\\\\n",
       "\t 08.03.2016 08:40                                                                                        & Rower 60439 do 08:53:32 (Arkadia - ul. Bonifraterska - Plac Krasińskich)                               \\\\\n",
       "\t 23.03.2016 08:41                                                                                        & Rower 64866 do 08:54:52 (Arkadia - ul. Bonifraterska - Plac Krasińskich)                               \\\\\n",
       "\t 24.03.2016 08:43                                                                                        & Rower 60903 do 08:56:10 (Arkadia - ul. Bonifraterska - Plac Krasińskich)                               \\\\\n",
       "\t 25.03.2016 08:38                                                                                        & Rower 61043 do 08:51:15 (Arkadia - ul. Bonifraterska - Plac Krasińskich)                               \\\\\n",
       "\t 29.03.2016 08:51                                                                                        & Rower 68183 do 08:58:22 (ul. Słomińskiego - Metro Dw. Gdański 1 - ul. Bonifraterska - Plac Krasińskich)\\\\\n",
       "\\end{tabular}\n"
      ],
      "text/plain": [
       "  data            \n",
       "1 07.03.2016 08:38\n",
       "2 08.03.2016 08:40\n",
       "3 23.03.2016 08:41\n",
       "4 24.03.2016 08:43\n",
       "5 25.03.2016 08:38\n",
       "6 29.03.2016 08:51\n",
       "  opis                                                                                                   \n",
       "1 Rower 68244 do 08:51:44 (Arkadia - ul. Bonifraterska - Plac Krasińskich)                               \n",
       "2 Rower 60439 do 08:53:32 (Arkadia - ul. Bonifraterska - Plac Krasińskich)                               \n",
       "3 Rower 64866 do 08:54:52 (Arkadia - ul. Bonifraterska - Plac Krasińskich)                               \n",
       "4 Rower 60903 do 08:56:10 (Arkadia - ul. Bonifraterska - Plac Krasińskich)                               \n",
       "5 Rower 61043 do 08:51:15 (Arkadia - ul. Bonifraterska - Plac Krasińskich)                               \n",
       "6 Rower 68183 do 08:58:22 (ul. Słomińskiego - Metro Dw. Gdański 1 - ul. Bonifraterska - Plac Krasińskich)"
      ]
     },
     "metadata": {},
     "output_type": "display_data"
    },
    {
     "data": {
      "text/html": [],
      "text/latex": [],
      "text/markdown": [],
      "text/plain": [
       "numeric(0)"
      ]
     },
     "metadata": {},
     "output_type": "display_data"
    }
   ],
   "source": [
    "# pobieanie danych\n",
    "veto<-read.csv( \"../VETURILO - 2016.12.01_dane_oczyszczone.csv\", encoding=\"UTF-8\")\n",
    "head( veto) # poniże przyklad surownych danych\n",
    "# dzien.wypozyczenia\n",
    "veto$wypozyczenie.dzien<-gsub(\" .*\", \"\", veto$data)\n",
    "# godzina.wypozyczenia\n",
    "veto$wypozyczenie.godzina<-gsub(\".* \", \"\", veto$data) \n",
    "veto$wypozyczenie.godzina<-paste( veto$wypozyczenie.godzina, \":00\", sep=\"\")\n",
    "# zwroty\n",
    "zwroty<-gsub( \".* do | \\\\(.*\", \"\", veto$opis)\n",
    "zwroty<-strsplit( zwroty, \" \")\n",
    "# wyodrebnianie godzin i dni\n",
    "zwroty<-lapply( zwroty, FUN=function(X) { \n",
    "\tif (length(X)==1){\n",
    "\t\tX<-c(\"\",X)\n",
    "\t\tX\n",
    "\t} else{\n",
    "\t\tX\n",
    "\t}\n",
    "}  )\n",
    "# zwrot.dzien\n",
    "veto$zwrot.dzien<-unlist(lapply( zwroty, \"[\",1))\n",
    "veto$zwrot.dzien[veto$zwrot.dzien==\"\"]<-veto$wypozyczenie.dzien[veto$zwrot.dzien==\"\"]\n",
    "# poprawianie oznaczenia roku\n",
    "veto$zwrot.dzien<-gsub( \"\\\\.16\", \"\\\\.2016\", veto$zwrot.dzien )\n",
    "# zwrot.godzina\n",
    "veto$zwrot.godzina<-unlist(lapply( zwroty, \"[\",2))\n",
    "# czas wypozyczenia\n",
    "veto$godzina.wypozyczenia-veto$godzina.zwrotu\n",
    "# przeksztalcenie czasu\n",
    "veto$czas.wypozyczenia<-difftime(\n",
    "\tstrptime( paste(veto$zwrot.dzien, veto$zwrot.godzina), \"%d.%m.%Y %H:%M:%S\"),\n",
    "\tstrptime( paste(veto$wypozyczenie.dzien, veto$wypozyczenie.godzina), \"%d.%m.%Y %H:%M:%S\")\n",
    ")"
   ]
  },
  {
   "cell_type": "markdown",
   "metadata": {},
   "source": [
    "## 2. Aktywność w 2016 r. - 159 wypożyczeń\n",
    "\n",
    "W ciągu roku (sezon marzec-listopad 2016) wypożyczałem (lub chciałem wypożyczyć ale mi się nie udało) rowery w systemie Veturilo __159__ razy."
   ]
  },
  {
   "cell_type": "code",
   "execution_count": 2,
   "metadata": {
    "collapsed": false
   },
   "outputs": [
    {
     "name": "stderr",
     "output_type": "stream",
     "text": [
      "Warning message:\n",
      "\"package 'ggplot2' was built under R version 3.3.2\""
     ]
    },
    {
     "data": {},
     "metadata": {},
     "output_type": "display_data"
    },
    {
     "data": {},
     "metadata": {},
     "output_type": "display_data"
    },
    {
     "data": {
      "image/png": "[encoded data removed]",
      "text/plain": [
       "plot without title"
      ]
     },
     "metadata": {},
     "output_type": "display_data"
    },
    {
     "data": {
      "image/png": "[encoded data removed]",
      "text/plain": [
       "plot without title"
      ]
     },
     "metadata": {},
     "output_type": "display_data"
    }
   ],
   "source": [
    "# pakiet ggplo2\n",
    "library(ggplot2)\n",
    "## miesiac\n",
    "veto_miesiace<-data.frame(miesiac=substring(veto$wypozyczenie.dzien,4,5))\n",
    "c <- ggplot(veto_miesiace, aes(factor(miesiac)))\n",
    "c + geom_bar()+ggtitle(\"Rozkład miesiąca wypożyczenia\")\n",
    "## godzina\n",
    "veto_godzina<-data.frame(godzina=substring(veto$wypozyczenie.godzina,1,2))\n",
    "c <- ggplot(veto_godzina, aes(factor(godzina)))\n",
    "c + geom_bar()+ggtitle(\"Rozkład godziny wypożyczenia\")"
   ]
  },
  {
   "cell_type": "markdown",
   "metadata": {},
   "source": [
    "## 3. Problemy z wypożyczaniem\n",
    "\n",
    "Najgorsze w veturilo są nieudane wypożyczenia i zwroty czyli (to gorsze od braku rowerów na stacji - tego niestety nie udalo mi się udokumentować):\n",
    "\n",
    "* stacja nie zwalnia wybranego roweru;\n",
    "* wybrany rower po zwolnieniu przez stację okazuje się niesprawny (na różne sposoby);\n",
    "* stacja nie przyjmuje zwracanego roweru.\n",
    "\n",
    "Każda taka systuacja jest strasznie wkurzająca. Subiektywnie odnoszę wrażenie, że usterek jest strasznie dużo i właściwie nie ma wypożyczenia bez jakiegoś problemu. Żeby to zweryfikować trzeba się przebić przez opis wypożyczeń. Otóż objawem problemu jest:\n",
    "    \n",
    "1. __opis wypożyczenia jako \"nieważne\" lub \"reklamacja\" (albo jedno i drugie)__ - to najczęściej oznacza, że zadzwoniłem do centrali Veturilo, żeby przestali naliczać mi karę, bo rower zwróciłem, ale oni tego nie zarejestrowali\n",
    "2. __bardzo krótkie wypożyczenie od 1 do 5 minut i brak stacji docelowej (taka sama jak stacja wypożyczenia)__- czasmi zdaża się, że wypożyczam rower i wtedy orientuję się, że urwała sie kierownica, albo nie ma koła, albo hamulców, albo ramy... wtedy od razu go zwracam"
   ]
  },
  {
   "cell_type": "code",
   "execution_count": 3,
   "metadata": {
    "collapsed": false
   },
   "outputs": [
    {
     "name": "stdout",
     "output_type": "stream",
     "text": [
      "Rozklad liczebności wypożyczeń i reklamacji"
     ]
    },
    {
     "data": {
      "text/html": [
       "<table>\n",
       "<thead><tr><th></th><th scope=col>udane wypożyczenie i zwrot</th><th scope=col>niudane wypożyczenie</th><th scope=col>niudany zwrot</th><th scope=col>Razem</th></tr></thead>\n",
       "<tbody>\n",
       "\t<tr><th scope=row>bez reklamacji</th><td>131</td><td>24 </td><td>1  </td><td>156</td></tr>\n",
       "\t<tr><th scope=row>koniczna reklacmacja</th><td>  0</td><td> 3 </td><td>0  </td><td>  3</td></tr>\n",
       "\t<tr><th scope=row>Razem</th><td>131</td><td>27 </td><td>1  </td><td>159</td></tr>\n",
       "</tbody>\n",
       "</table>\n"
      ],
      "text/latex": [
       "\\begin{tabular}{r|llll}\n",
       "  & udane wypożyczenie i zwrot & niudane wypożyczenie & niudany zwrot & Razem\\\\\n",
       "\\hline\n",
       "\tbez reklamacji & 131 & 24  & 1   & 156\\\\\n",
       "\tkoniczna reklacmacja &   0 &  3  & 0   &   3\\\\\n",
       "\tRazem & 131 & 27  & 1   & 159\\\\\n",
       "\\end{tabular}\n"
      ],
      "text/plain": [
       "                      \n",
       "                       udane wypożyczenie i zwrot niudane wypożyczenie\n",
       "  bez reklamacji       131                        24                  \n",
       "  koniczna reklacmacja   0                         3                  \n",
       "  Razem                131                        27                  \n",
       "                      \n",
       "                       niudany zwrot Razem\n",
       "  bez reklamacji       1             156  \n",
       "  koniczna reklacmacja 0               3  \n",
       "  Razem                1             159  "
      ]
     },
     "metadata": {},
     "output_type": "display_data"
    },
    {
     "name": "stdout",
     "output_type": "stream",
     "text": [
      "Rozklad częstości wypożyczeń i reklamacji [%]"
     ]
    },
    {
     "data": {
      "text/html": [
       "<table>\n",
       "<thead><tr><th></th><th scope=col>udane wypożyczenie i zwrot</th><th scope=col>niudane wypożyczenie</th><th scope=col>niudany zwrot</th><th scope=col>Razem</th></tr></thead>\n",
       "<tbody>\n",
       "\t<tr><th scope=row>bez reklamacji</th><td>82.38994  </td><td>15.094340 </td><td>0.6289308 </td><td> 98.113208</td></tr>\n",
       "\t<tr><th scope=row>koniczna reklacmacja</th><td> 0.00000  </td><td> 1.886792 </td><td>0.0000000 </td><td>  1.886792</td></tr>\n",
       "\t<tr><th scope=row>Razem</th><td>82.38994  </td><td>16.981132 </td><td>0.6289308 </td><td>100.000000</td></tr>\n",
       "</tbody>\n",
       "</table>\n"
      ],
      "text/latex": [
       "\\begin{tabular}{r|llll}\n",
       "  & udane wypożyczenie i zwrot & niudane wypożyczenie & niudany zwrot & Razem\\\\\n",
       "\\hline\n",
       "\tbez reklamacji & 82.38994   & 15.094340  & 0.6289308  &  98.113208\\\\\n",
       "\tkoniczna reklacmacja &  0.00000   &  1.886792  & 0.0000000  &   1.886792\\\\\n",
       "\tRazem & 82.38994   & 16.981132  & 0.6289308  & 100.000000\\\\\n",
       "\\end{tabular}\n"
      ],
      "text/plain": [
       "                      \n",
       "                       udane wypożyczenie i zwrot niudane wypożyczenie\n",
       "  bez reklamacji       82.38994                   15.094340           \n",
       "  koniczna reklacmacja  0.00000                    1.886792           \n",
       "  Razem                82.38994                   16.981132           \n",
       "                      \n",
       "                       niudany zwrot Razem     \n",
       "  bez reklamacji       0.6289308      98.113208\n",
       "  koniczna reklacmacja 0.0000000       1.886792\n",
       "  Razem                0.6289308     100.000000"
      ]
     },
     "metadata": {},
     "output_type": "display_data"
    }
   ],
   "source": [
    "write.csv2( data.frame(opis=gsub( \".*\\\\(|)\",\"\", veto$opis)  ) , \"../VETURILO_punkty_start_stop_export.csv\", row.names=FALSE )\n",
    "# wczytywanie poprawionych\n",
    "veto_poprawione_od_do<-read.csv2( \"../VETURILO_punkty_start_stop_poprawione.csv\")\n",
    "veto$Od<-veto_poprawione_od_do$Od\n",
    "veto$Do<-veto_poprawione_od_do$Do\n",
    "# nieudane wypozyczen - niewazne\n",
    "veto$wypozyczenie.nieudane<-0\n",
    "veto$wypozyczenie.nieudane[ veto$Do==\"\" & veto$czas.wypozyczenia<10 ]<-1\n",
    "veto$wypozyczenie.nieudane[veto$Od==\"Reklamacja Infolinia - Nieważny\"]<-1 # przypadek niewyjasniony\n",
    "veto$wypozyczenie.nieudane[veto$Od==\"reklamacja telefoniczna - Nieważny\"]<-1 # nieudane wypozyczenie z dw. Gdanska\n",
    "veto$wypozyczenie.nieudane[veto$Od==\"Reklamacja nr. 1420342527 uznana - Nieważny\"]<-1 # nieudane wypozyczenie z arkadii\n",
    "veto$wypozyczenie.nieudane[veto$Od==\"reklamacja telefoniczna  - Nieważny\"]<-1 # nieudane nocne wypozyczenie z arkadii\n",
    "# nieudany zwrot\n",
    "veto$zwrot.nieudany<-0\n",
    "veto$zwrot.nieudany[veto$czas.wypozyczenia>100 & veto$wypozyczenie.nieudane!=1 ]<-1\n",
    "# nieudane wypozyczenie i nieudany zwrot - rekamacja i koszty\n",
    "veto$wypozyczenie.zwrot.nieudane.rekalamacja<-0\n",
    "veto$wypozyczenie.zwrot.nieudane.rekalamacja[veto$wypozyczenie.nieudane==1 & veto$czas.wypozyczenia >100 ]<-1\n",
    "# niudane wypozyczenia i zwroty\n",
    "veto_wypozyczenia<-addmargins( table( veto$wypozyczenie.zwrot.nieudane.rekalamacja, veto$wypozyczenie.nieudane+veto$zwrot.nieudany*2))  \n",
    "colnames(veto_wypozyczenia)<-c(\"udane wypożyczenie i zwrot\", \"niudane wypożyczenie\", \"niudany zwrot\", \"Razem\")\n",
    "rownames(veto_wypozyczenia)<-c(\"bez reklamacji\", \"koniczna reklacmacja\", \"Razem\")\n",
    "cat(\"Rozklad liczebności wypożyczeń i reklamacji\")\n",
    "veto_wypozyczenia\n",
    "veto_wypozyczenia<-addmargins( prop.table(table( veto$wypozyczenie.zwrot.nieudane.rekalamacja, veto$wypozyczenie.nieudane+veto$zwrot.nieudany*2))*100)\n",
    "colnames(veto_wypozyczenia)<-c(\"udane wypożyczenie i zwrot\", \"niudane wypożyczenie\", \"niudany zwrot\", \"Razem\")\n",
    "rownames(veto_wypozyczenia)<-c(\"bez reklamacji\", \"koniczna reklacmacja\", \"Razem\")\n",
    "cat(\"Rozklad częstości wypożyczeń i reklamacji [%]\")\n",
    "veto_wypozyczenia"
   ]
  },
  {
   "cell_type": "markdown",
   "metadata": {},
   "source": [
    "## 4. Podsumowanie\n",
    "\n",
    "### Przeciętny czas wypożyczenia roweru w sezonie marzec-listopad 2016 r. (dla 131 bezproblemowych wypożyczeń) "
   ]
  },
  {
   "cell_type": "code",
   "execution_count": 4,
   "metadata": {
    "collapsed": false
   },
   "outputs": [
    {
     "data": {
      "text/plain": [
       "Time difference of 11.76234 mins"
      ]
     },
     "metadata": {},
     "output_type": "display_data"
    }
   ],
   "source": [
    "# przecietny czas przejazdow bezproblemowych\n",
    "mean( veto$czas.wypozyczenia[veto$wypozyczenie.nieudane==0 & veto$zwrot.nieudany==0 ] )"
   ]
  },
  {
   "cell_type": "markdown",
   "metadata": {},
   "source": [
    "### Niezawodność systemu\n",
    "\n",
    "Łącznie wypożyczałem rowery Veturilo 159 razy z czego:\n",
    " \n",
    "* 27 razy razy mi się to nie udalo i miałem problemy (z czego 3 razy musiałem dzwonić na infolinię, bo sprawa była poważna);\n",
    "* 1 raz wypożyczyłem rower ale potem nie mogłem go prawidłowo zwrócić;\n",
    "* 131 razy wszystko było ok :)\n",
    "\n",
    "Łącznie problemy pojawiły się 28 razy (około 17,5% wszystkich wypożyczeń). Moim zdaniem to dużo. Wystarczy, żebym wyrobił sobie subiektywne zdanie o bardzo dużej zawodności Veturilo. Niestety dobrych wypożyczeń zupelnie się nie pamięta. Na dodatek system nie łapie sytuacji, w których nie mogłem wypożyczyć roweru, bo nie było żadnego albo stacja była popsuta. Takich sytuacji miałem sporo i każda z nich działała in minus dla systemu.\n",
    "\n",
    "__Jeszcze jedna bardzo ważna uwaga!!!__ Jako klient zawodnego systemu nauczyłem się rozpoznawać i unikac sytuacji, w których może pojawić się problem. Przyklad: bardzo rzadko podchodzę do stacji na ktorych są mniej niż 4 rowery. Z moich obserwacji wynika, że zazwyczaj wszystkie będą popsute. W ten sposób zaniżam statystyki awaryjności systemu.\n",
    "\n",
    "Wniosek końcowy: __82% niezawodność systemu to zbyt mało!!!__ Problem polega na tym, że taka statystyka wygląda dobrze na papierze, ale w rzeczywistości oznacza, że 1 raz na 5 mam jakiś problem. Jeśli korzystam z Veturilo raz dziennie w ciągu 5 dni roboczych to oznacza, że raz w tygodniu będę miał problem. To wystarczy, żeby wyrobić sobie złą opinię."
   ]
  }
 ],
 "metadata": {
  "kernelspec": {
   "display_name": "R 3.3",
   "language": "R",
   "name": "ir33"
  },
  "language_info": {
   "codemirror_mode": "r",
   "file_extension": ".r",
   "mimetype": "text/x-r-source",
   "name": "R",
   "pygments_lexer": "r",
   "version": "3.3.0"
  }
 },
 "nbformat": 4,
 "nbformat_minor": 0
}
